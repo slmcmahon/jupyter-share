{
 "cells": [
  {
   "cell_type": "code",
   "execution_count": 71,
   "metadata": {},
   "outputs": [],
   "source": [
    "from abc import ABC, abstractmethod\n"
   ]
  },
  {
   "attachments": {},
   "cell_type": "markdown",
   "metadata": {},
   "source": [
    "Define our objects that will be used for our rules processing.\n"
   ]
  },
  {
   "cell_type": "code",
   "execution_count": 72,
   "metadata": {},
   "outputs": [],
   "source": [
    "class JobAttribute(object):\n",
    "    def __init__(self, id: int, name: str, value: str | list[str] | int | float | bool):\n",
    "        self._id = id\n",
    "        self._name = name\n",
    "        self._value = value\n",
    "\n",
    "    @property\n",
    "    def name(self):\n",
    "        return self._name\n",
    "\n",
    "    @property\n",
    "    def id(self):\n",
    "        return self._id\n",
    "\n",
    "    @property\n",
    "    def attr_value(self):\n",
    "        return self._value\n",
    "\n",
    "\n",
    "class Job(object):\n",
    "    def __init__(self, external_job_id: int, segment_id: int, source_system_id: int):\n",
    "        self.external_job_id = external_job_id\n",
    "        self.segment_id = segment_id\n",
    "        self.source_system_id = source_system_id\n",
    "        self.job_attributes: list[JobAttribute] = []\n",
    "\n",
    "    def add_attribute(self, id: int, name: str, value: int | float | str | bool):\n",
    "        ja = JobAttribute(id, name, value)\n",
    "        self.job_attributes.append(ja)\n",
    "\n",
    "    def get_attribute(self, id) -> JobAttribute:\n",
    "        attr: JobAttribute\n",
    "        for attr in self.job_attributes:\n",
    "            if attr.id == id:\n",
    "                return attr\n"
   ]
  },
  {
   "attachments": {},
   "cell_type": "markdown",
   "metadata": {},
   "source": [
    "Define our rules. All rules will inherit from the abstract Specification class so that they implement the \"is_satisfied_by\" method, which always returns a boolean value\n"
   ]
  },
  {
   "cell_type": "code",
   "execution_count": 73,
   "metadata": {},
   "outputs": [],
   "source": [
    "class Specification(ABC):\n",
    "    @abstractmethod\n",
    "    def is_satisfied_by(self, item: Job) -> bool:\n",
    "        pass\n",
    "\n",
    "\n",
    "class RangeRule(Specification):\n",
    "    def __init__(\n",
    "        self, attribute_id: int, min_value: int | float, max_value: int | float\n",
    "    ):\n",
    "        self.attribute_id = attribute_id\n",
    "        self.min_value: int | float = min_value\n",
    "        self.max_value: int | float = max_value\n",
    "\n",
    "    def is_satisfied_by(self, job) -> bool:\n",
    "        attr = job.get_attribute(self.attribute_id)\n",
    "        return (\n",
    "            attr\n",
    "            and attr.attr_value >= self.min_value\n",
    "            and attr.attr_value <= self.max_value\n",
    "        )\n",
    "\n",
    "\n",
    "class SkillLevelRule(Specification):\n",
    "    def __init__(self, skill_level: int):\n",
    "        self.skill_level = skill_level\n",
    "\n",
    "    def is_satisfied_by(self, job: Job) -> bool:\n",
    "        # here, we know that the attribute id is always 87\n",
    "        # and the caller does not need to know that.\n",
    "        attr = job.get_attribute(87)\n",
    "        return attr and attr.attr_value >= self.skill_level\n",
    "    \n",
    "    \n",
    "class AssetCodeNameRule(Specification):\n",
    "    def __init__(self, acceptable_codes: list[str]):\n",
    "        self.acceptable_codes = acceptable_codes\n",
    "        \n",
    "    def is_satisfied_by(self, job: Job) -> bool:\n",
    "        attr = job.get_attribute(873)\n",
    "        code: str = attr._value\n",
    "        return code in self.acceptable_codes\n"
   ]
  },
  {
   "attachments": {},
   "cell_type": "markdown",
   "metadata": {},
   "source": [
    "This method will accept a job and an arbitrary number of rules to apply.  If any of the rules evaluate to false, then the whole check is false."
   ]
  },
  {
   "cell_type": "code",
   "execution_count": 74,
   "metadata": {},
   "outputs": [],
   "source": [
    "def check_rules(job: Job, *specs) -> bool:\n",
    "    spec: Specification\n",
    "    for spec in specs:\n",
    "        if not spec.is_satisfied_by(job):\n",
    "            return False\n",
    "    return True\n"
   ]
  },
  {
   "attachments": {},
   "cell_type": "markdown",
   "metadata": {},
   "source": [
    "Setup the expectations for this job."
   ]
  },
  {
   "cell_type": "code",
   "execution_count": 75,
   "metadata": {},
   "outputs": [],
   "source": [
    "# Surface tension must be between 3400 and 3500 \n",
    "surfaceTensionCheck = RangeRule(5, 3400, 3500)\n",
    "# The people on this job must have a skill level of 2 or greater\n",
    "skillCheck = SkillLevelRule(2)\n",
    "# Acceptable Codes\n",
    "codeCheck = AssetCodeNameRule([\"XYZ\", \"BR549\", \"C2255\", \"DZ-015\", \"27B-6\"])"
   ]
  },
  {
   "cell_type": "code",
   "execution_count": 77,
   "metadata": {},
   "outputs": [
    {
     "data": {
      "text/plain": [
       "False"
      ]
     },
     "execution_count": 77,
     "metadata": {},
     "output_type": "execute_result"
    }
   ],
   "source": [
    "job = Job(123, 45, 678)\n",
    "job.add_attribute(5, \"SurfaceTension\", 3456)\n",
    "job.add_attribute(87, \"SkillLevel\", 3)\n",
    "job.add_attribute(873, \"AssetCodeName\", \"DZ-015\")\n",
    "\n",
    "check_rules(job, surfaceTensionCheck, skillCheck, codeCheck)\n"
   ]
  }
 ],
 "metadata": {
  "kernelspec": {
   "display_name": ".venv",
   "language": "python",
   "name": "python3"
  },
  "language_info": {
   "codemirror_mode": {
    "name": "ipython",
    "version": 3
   },
   "file_extension": ".py",
   "mimetype": "text/x-python",
   "name": "python",
   "nbconvert_exporter": "python",
   "pygments_lexer": "ipython3",
   "version": "3.11.2"
  },
  "orig_nbformat": 4
 },
 "nbformat": 4,
 "nbformat_minor": 2
}
